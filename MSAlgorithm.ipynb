{
 "cells": [
  {
   "cell_type": "markdown",
   "metadata": {},
   "source": [
    "What is the Merge Sort Algorithm?\n",
    "\n",
    "It is a divide and conquer algorithm to solve and unorgainzed array into a sequence, ordered array\n",
    "\n",
    "It splits into 2 halves, sorts them, and merges the sorted halves. \n",
    "\n",
    "Ex. \n",
    "\n",
    "43 2 24 65 34 1 67 35\n",
    "\n",
    "Splits [Step 1]\n",
    " \n",
    "(1) 43 2 24 65 \n",
    "\n",
    "(2) 34 1 67 35\n",
    "\n",
    "Divide by 2 [Step 2]\n",
    "\n",
    "43 2\n",
    "\n",
    "24 65\n",
    "\n",
    "34 1\n",
    "\n",
    "67 35\n",
    "\n",
    "Organize pairs [Step 3]\n",
    "\n",
    "(By lowest to highest)\n",
    "\n",
    "2, 43\n",
    "\n",
    "24, 65\n",
    "\n",
    "1, 34\n",
    "\n",
    "35, 67\n",
    "\n",
    "Classify Pairs [Step 4]\n",
    "\n",
    "2, 43 a\n",
    "\n",
    "24, 65 b\n",
    "\n",
    "1, 34 c \n",
    "\n",
    "35, 67 d\n",
    "\n",
    "Merge a & b and c & d [Step 5]\n",
    "\n",
    "ab 2, 24, 43, 65\n",
    "cd 1, 34, 35, 67\n",
    "\n",
    "Merge ab & cd\n",
    "\n",
    "(Do this by comparing ab[0] to cd[0], etc...\n",
    "\n",
    "1, 2, 24, 34, 35, 43, 65, 67"
   ]
  },
  {
   "cell_type": "code",
   "execution_count": 36,
   "metadata": {},
   "outputs": [],
   "source": [
    "#Python code\n",
    "array1 = [56, 39, 66, 8, 37, 57, 15, 30, 27, 77]"
   ]
  },
  {
   "cell_type": "code",
   "execution_count": 37,
   "metadata": {},
   "outputs": [],
   "source": [
    "#Step 1 -- Split into 2\n",
    "def ms_step1():\n",
    "    middle = len(array1) / 2\n",
    "    middle = int(middle)\n",
    "    group1a = array1[:middle]\n",
    "    group2a = array1[middle:]\n",
    "    \n",
    "ms_step1()"
   ]
  },
  {
   "cell_type": "code",
   "execution_count": 38,
   "metadata": {},
   "outputs": [],
   "source": [
    "#Step 2 -- Group\n",
    "def ms_step2():\n",
    "    if len(group1a) % 2 == 1:\n",
    "     #Odd\n",
    "        group1b = group1a[:3]\n",
    "        group2b = group1a[3:]\n",
    "        group3b = group2a[:3]\n",
    "        group4b = group2a[3:]\n",
    "        \n",
    "    \n",
    "    else:\n",
    "        #Even\n",
    "        group1b = group1a[:2]\n",
    "        group2b = group1a[2:]\n",
    "        group3b = group2a[:2]\n",
    "        group4b = group2a[2:]\n",
    "        \n",
    "ms_step2()"
   ]
  },
  {
   "cell_type": "code",
   "execution_count": 39,
   "metadata": {},
   "outputs": [],
   "source": [
    "#Step 3 -- Organize Pairs\n",
    "#Step 4 -- Classify Pairs\n",
    "#Use sort function\n",
    "def ms_step3a4():\n",
    "    group1b.sort()\n",
    "    group2b.sort()\n",
    "    group3b.sort()\n",
    "    group4b.sort()\n",
    "    \n",
    "ms_step3a4()"
   ]
  },
  {
   "cell_type": "code",
   "execution_count": 40,
   "metadata": {},
   "outputs": [
    {
     "name": "stdout",
     "output_type": "stream",
     "text": [
      "[8, 15, 27, 30, 37, 39, 56, 57, 66, 77]\n"
     ]
    }
   ],
   "source": [
    "# Step 5 -- Merge Lists by comparing\n",
    "def ms_step5():\n",
    "    bin1 = group1b + group2b\n",
    "    bin2 = group3b + group4b\n",
    "    bin1.sort()\n",
    "    bin2.sort()\n",
    "    solution = bin1 + bin2\n",
    "    solution.sort()\n",
    "    print(solution)\n",
    "    \n",
    "ms_step5()\n",
    "           "
   ]
  },
  {
   "cell_type": "code",
   "execution_count": 43,
   "metadata": {},
   "outputs": [
    {
     "name": "stdout",
     "output_type": "stream",
     "text": [
      "[56, 39, 66, 8, 37, 57, 15, 30, 27, 77]\n",
      "[8, 15, 27, 30, 37, 39, 56, 57, 66, 77]\n"
     ]
    }
   ],
   "source": [
    "array1 = [56, 39, 66, 8, 37, 57, 15, 30, 27, 77]; print(array1)\n",
    "ms_step1()\n",
    "ms_step2()\n",
    "ms_step3a4()\n",
    "ms_step5()\n",
    "#Code written by Will Zou"
   ]
  },
  {
   "cell_type": "code",
   "execution_count": 48,
   "metadata": {},
   "outputs": [
    {
     "name": "stdout",
     "output_type": "stream",
     "text": [
      "[56, 39, 66, 8, 37, 57, 15, 30, 27, 77, 11, 12]\n",
      "[8, 11, 12, 15, 27, 30, 37, 39, 56, 57, 66, 77]\n"
     ]
    }
   ],
   "source": [
    "def merge_sort():\n",
    "    array1 = [56, 39, 66, 8, 37, 57, 15, 30, 27, 77]\n",
    "    \n",
    "    #step 1\n",
    "    middle = len(array1) / 2\n",
    "    middle = int(middle)\n",
    "    group1a = array1[:middle]\n",
    "    group2a = array1[middle:]\n",
    "    #step 2\n",
    "    if len(group1a) % 2 == 1:\n",
    "     #Odd\n",
    "        group1b = group1a[:3]\n",
    "        group2b = group1a[3:]\n",
    "        group3b = group2a[:3]\n",
    "        group4b = group2a[3:]\n",
    "        \n",
    "    \n",
    "    else:\n",
    "        #Even\n",
    "        group1b = group1a[:2]\n",
    "        group2b = group1a[2:]\n",
    "        group3b = group2a[:2]\n",
    "        group4b = group2a[2:]\n",
    "        \n",
    "    #step 3 and 4\n",
    "    group1b.sort()\n",
    "    group2b.sort()\n",
    "    group3b.sort()\n",
    "    group4b.sort()\n",
    "    \n",
    "    #step 5\n",
    "    bin1 = group1b + group2b\n",
    "    bin2 = group3b + group4b\n",
    "    bin1.sort()\n",
    "    bin2.sort()\n",
    "    solution = bin1 + bin2\n",
    "    solution.sort()\n",
    "    print(array1)\n",
    "    print(solution)\n",
    "\n",
    "merge_sort()\n",
    "    "
   ]
  },
  {
   "cell_type": "markdown",
   "metadata": {},
   "source": [
    "https://www.geeksforgeeks.org/merge-sort/\n"
   ]
  }
 ],
 "metadata": {
  "kernelspec": {
   "display_name": "Python 3",
   "language": "python",
   "name": "python3"
  },
  "language_info": {
   "codemirror_mode": {
    "name": "ipython",
    "version": 3
   },
   "file_extension": ".py",
   "mimetype": "text/x-python",
   "name": "python",
   "nbconvert_exporter": "python",
   "pygments_lexer": "ipython3",
   "version": "3.8.3"
  }
 },
 "nbformat": 4,
 "nbformat_minor": 4
}
